{
 "cells": [
  {
   "cell_type": "code",
   "execution_count": null,
   "id": "f6b00203-9226-4262-8d06-02472be9bd74",
   "metadata": {},
   "outputs": [],
   "source": [
    "from pathlib import Path\n",
    "import json\n",
    "\n",
    "from cooking_seasonally.helpers.recipe import Recipe\n",
    "from cooking_seasonally.helpers.utils import get_json_files, get_recipes_from_json"
   ]
  },
  {
   "cell_type": "code",
   "execution_count": null,
   "id": "42bd2d76-7750-47e6-afcf-d51f6663d0e0",
   "metadata": {},
   "outputs": [],
   "source": [
    "def remove_duplicates(all_recipes):\n",
    "    result = []\n",
    "    for recipe in all_recipes:\n",
    "        if recipe not in result:\n",
    "            result.append(recipe)\n",
    "    return result"
   ]
  },
  {
   "cell_type": "code",
   "execution_count": 3,
   "id": "d360f046-2d2a-4f23-a063-b5481439b5e3",
   "metadata": {},
   "outputs": [
    {
     "data": {
      "text/plain": [
       "[PosixPath('/Users/mariakalimeri/Documents/cooking_seasonally/data/interim/ottolenghi_recipes_salad.json'),\n",
       " PosixPath('/Users/mariakalimeri/Documents/cooking_seasonally/data/interim/ottolenghi_recipes_soup.json'),\n",
       " PosixPath('/Users/mariakalimeri/Documents/cooking_seasonally/data/interim/ottolenghi_recipes_mains.json'),\n",
       " PosixPath('/Users/mariakalimeri/Documents/cooking_seasonally/data/interim/ottolenghi_recipes_sides.json')]"
      ]
     },
     "execution_count": 3,
     "metadata": {},
     "output_type": "execute_result"
    }
   ],
   "source": [
    "BASE_DIR = Path().resolve().parent.parent\n",
    "\n",
    "raw_jsn_dir_path = Path(BASE_DIR) / \"data/raw/\"\n",
    "recipe_files = get_json_files(raw_jsn_dir_path)\n",
    "recipe_files"
   ]
  },
  {
   "cell_type": "code",
   "execution_count": null,
   "id": "d18f07f8-8eff-4bf2-9ca3-bf18d5108dce",
   "metadata": {},
   "outputs": [],
   "source": [
    "recipes_list = []\n",
    "for link in recipe_files:\n",
    "    recipes_list.append(get_recipes_from_json(link))\n",
    "all_recipes_list = [r for l in recipes_list for r in l]"
   ]
  },
  {
   "cell_type": "code",
   "execution_count": 8,
   "id": "2161ab1f-faad-42fa-87ff-1a7583e57908",
   "metadata": {},
   "outputs": [],
   "source": [
    "# Checking if all recipes are unique /if not, remove dublicates\n",
    "\n",
    "all_links = list(set([r.url for r in all_recipes_list]))\n",
    "\n",
    "if not (len(all_links) == len(all_recipes_list)):\n",
    "    non_duplicate_list = remove_duplicates(all_recipes_list)\n",
    "assert(len(non_duplicate_list) == len(all_links))"
   ]
  },
  {
   "cell_type": "code",
   "execution_count": null,
   "id": "72b37f37-dcf4-4059-8fe5-383525b1b1a2",
   "metadata": {},
   "outputs": [],
   "source": [
    "interim_json_file = Path(BASE_DIR) / \"data/interim/ottolenghi_recipes.json\"\n",
    "\n",
    "with open(interim_json_file, 'w') as f:\n",
    "    json.dump(non_duplicate_list, f, default=Recipe.encode_recipe)"
   ]
  },
  {
   "cell_type": "code",
   "execution_count": null,
   "id": "4db114af-81c7-481d-a332-5f9015361ba5",
   "metadata": {},
   "outputs": [],
   "source": []
  },
  {
   "cell_type": "code",
   "execution_count": null,
   "id": "61a856ed-eb02-4b39-848b-108f7ecaf444",
   "metadata": {
    "scrolled": true
   },
   "outputs": [],
   "source": []
  },
  {
   "cell_type": "code",
   "execution_count": null,
   "id": "062259ed-fbf8-4436-9c1d-feb5c9a1d0fa",
   "metadata": {},
   "outputs": [],
   "source": []
  },
  {
   "cell_type": "code",
   "execution_count": null,
   "id": "ef44c7c2-fb9d-4e4c-a09c-4544ce2da943",
   "metadata": {},
   "outputs": [],
   "source": []
  }
 ],
 "metadata": {
  "kernelspec": {
   "display_name": "Python 3 (ipykernel)",
   "language": "python",
   "name": "python3"
  },
  "language_info": {
   "codemirror_mode": {
    "name": "ipython",
    "version": 3
   },
   "file_extension": ".py",
   "mimetype": "text/x-python",
   "name": "python",
   "nbconvert_exporter": "python",
   "pygments_lexer": "ipython3",
   "version": "3.12.2"
  }
 },
 "nbformat": 4,
 "nbformat_minor": 5
}
