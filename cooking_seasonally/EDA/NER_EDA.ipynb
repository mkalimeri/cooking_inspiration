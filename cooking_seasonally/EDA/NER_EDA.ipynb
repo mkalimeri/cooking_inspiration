{
 "cells": [
  {
   "cell_type": "code",
   "execution_count": 111,
   "id": "e5130887",
   "metadata": {},
   "outputs": [],
   "source": [
    "from pathlib import Path\n",
    "\n",
    "import math\n",
    "import numpy as np\n",
    "import pandas as pd\n",
    "import spacy\n",
    "\n",
    "from cooking_seasonally.helpers.utils import data_path"
   ]
  },
  {
   "cell_type": "markdown",
   "id": "6e24ed9f",
   "metadata": {},
   "source": [
    "# EDA for NER model"
   ]
  },
  {
   "cell_type": "code",
   "execution_count": 112,
   "id": "3a676749",
   "metadata": {},
   "outputs": [],
   "source": [
    "BASE_DIR = Path().resolve().parent.parent"
   ]
  },
  {
   "cell_type": "markdown",
   "id": "1d2a6f83",
   "metadata": {},
   "source": [
    "## Explore the train set"
   ]
  },
  {
   "cell_type": "code",
   "execution_count": 113,
   "id": "4d1199b8",
   "metadata": {},
   "outputs": [
    {
     "data": {
      "text/html": [
       "<div>\n",
       "<style scoped>\n",
       "    .dataframe tbody tr th:only-of-type {\n",
       "        vertical-align: middle;\n",
       "    }\n",
       "\n",
       "    .dataframe tbody tr th {\n",
       "        vertical-align: top;\n",
       "    }\n",
       "\n",
       "    .dataframe thead th {\n",
       "        text-align: right;\n",
       "    }\n",
       "</style>\n",
       "<table border=\"1\" class=\"dataframe\">\n",
       "  <thead>\n",
       "    <tr style=\"text-align: right;\">\n",
       "      <th></th>\n",
       "      <th>ingredients</th>\n",
       "      <th>main_ingredient</th>\n",
       "    </tr>\n",
       "  </thead>\n",
       "  <tbody>\n",
       "    <tr>\n",
       "      <th>0</th>\n",
       "      <td>1 large red onion, halved lengthways, thinly s...</td>\n",
       "      <td>NaN</td>\n",
       "    </tr>\n",
       "    <tr>\n",
       "      <th>1</th>\n",
       "      <td>2 small green jalapenos</td>\n",
       "      <td>NaN</td>\n",
       "    </tr>\n",
       "    <tr>\n",
       "      <th>2</th>\n",
       "      <td>2/3 cup rice vinegar</td>\n",
       "      <td>NaN</td>\n",
       "    </tr>\n",
       "    <tr>\n",
       "      <th>3</th>\n",
       "      <td>1 tablespoon lime juice</td>\n",
       "      <td>NaN</td>\n",
       "    </tr>\n",
       "    <tr>\n",
       "      <th>4</th>\n",
       "      <td>1 heaped teaspoon sea salt</td>\n",
       "      <td>NaN</td>\n",
       "    </tr>\n",
       "  </tbody>\n",
       "</table>\n",
       "</div>"
      ],
      "text/plain": [
       "                                         ingredients main_ingredient\n",
       "0  1 large red onion, halved lengthways, thinly s...             NaN\n",
       "1                            2 small green jalapenos             NaN\n",
       "2                               2/3 cup rice vinegar             NaN\n",
       "3                            1 tablespoon lime juice             NaN\n",
       "4                         1 heaped teaspoon sea salt             NaN"
      ]
     },
     "execution_count": 113,
     "metadata": {},
     "output_type": "execute_result"
    }
   ],
   "source": [
    "train_df = pd.read_csv(data_path(BASE_DIR, 'interim', 'train_set.csv'), sep=';')\n",
    "train_df.head()"
   ]
  },
  {
   "cell_type": "markdown",
   "id": "f3c0a3ca",
   "metadata": {},
   "source": [
    "### What are the main ingredients in the train set? "
   ]
  },
  {
   "cell_type": "code",
   "execution_count": 114,
   "id": "44d885cd",
   "metadata": {},
   "outputs": [
    {
     "name": "stdout",
     "output_type": "stream",
     "text": [
      "There are 126 food items in the train set\n"
     ]
    }
   ],
   "source": [
    "print(f'There are {len(set(train_df.main_ingredient))} food items in the train set')"
   ]
  },
  {
   "cell_type": "code",
   "execution_count": 115,
   "id": "936d665a",
   "metadata": {},
   "outputs": [
    {
     "data": {
      "text/plain": [
       "<Axes: xlabel='main_ingredient'>"
      ]
     },
     "execution_count": 115,
     "metadata": {},
     "output_type": "execute_result"
    },
    {
     "data": {
      "image/png": "[encoded data removed]",
      "text/plain": [
       "<Figure size 640x480 with 1 Axes>"
      ]
     },
     "metadata": {},
     "output_type": "display_data"
    }
   ],
   "source": [
    "train_df.main_ingredient.value_counts()[1:30].plot.bar()"
   ]
  },
  {
   "cell_type": "markdown",
   "id": "076dda27",
   "metadata": {},
   "source": [
    "## Explore the evaluation set"
   ]
  },
  {
   "cell_type": "code",
   "execution_count": 116,
   "id": "cce9354a",
   "metadata": {},
   "outputs": [
    {
     "data": {
      "text/html": [
       "<div>\n",
       "<style scoped>\n",
       "    .dataframe tbody tr th:only-of-type {\n",
       "        vertical-align: middle;\n",
       "    }\n",
       "\n",
       "    .dataframe tbody tr th {\n",
       "        vertical-align: top;\n",
       "    }\n",
       "\n",
       "    .dataframe thead th {\n",
       "        text-align: right;\n",
       "    }\n",
       "</style>\n",
       "<table border=\"1\" class=\"dataframe\">\n",
       "  <thead>\n",
       "    <tr style=\"text-align: right;\">\n",
       "      <th></th>\n",
       "      <th>ingredients</th>\n",
       "      <th>main_ingredient</th>\n",
       "    </tr>\n",
       "  </thead>\n",
       "  <tbody>\n",
       "    <tr>\n",
       "      <th>0</th>\n",
       "      <td>large sweet potato (250g), cut into 2½cm-thic...</td>\n",
       "      <td>sweet potato</td>\n",
       "    </tr>\n",
       "    <tr>\n",
       "      <th>1</th>\n",
       "      <td>olive oil</td>\n",
       "      <td></td>\n",
       "    </tr>\n",
       "    <tr>\n",
       "      <th>2</th>\n",
       "      <td>salt and black pepper</td>\n",
       "      <td></td>\n",
       "    </tr>\n",
       "    <tr>\n",
       "      <th>3</th>\n",
       "      <td>garlic cloves, peeled and thinly sliced</td>\n",
       "      <td></td>\n",
       "    </tr>\n",
       "    <tr>\n",
       "      <th>4</th>\n",
       "      <td>tomato passata</td>\n",
       "      <td>tomato</td>\n",
       "    </tr>\n",
       "  </tbody>\n",
       "</table>\n",
       "</div>"
      ],
      "text/plain": [
       "                                         ingredients main_ingredient\n",
       "0   large sweet potato (250g), cut into 2½cm-thic...    sweet potato\n",
       "1                                          olive oil                \n",
       "2                              salt and black pepper                \n",
       "3            garlic cloves, peeled and thinly sliced                \n",
       "4                                     tomato passata          tomato"
      ]
     },
     "execution_count": 116,
     "metadata": {},
     "output_type": "execute_result"
    }
   ],
   "source": [
    "\n",
    "eval_set_df = pd.read_csv(data_path(BASE_DIR, 'interim', 'dev_set.csv'), sep=';')\n",
    "eval_set_df['main_ingredient'] = eval_set_df['main_ingredient'].replace(math.nan, \"\")\n",
    "eval_set_df.head()"
   ]
  },
  {
   "cell_type": "markdown",
   "id": "e9b5de19",
   "metadata": {},
   "source": [
    "### What are the main ingredients in the evaluation set? "
   ]
  },
  {
   "cell_type": "code",
   "execution_count": 117,
   "id": "0a82f5af",
   "metadata": {},
   "outputs": [
    {
     "name": "stdout",
     "output_type": "stream",
     "text": [
      "There are 27 food items in the test set\n"
     ]
    }
   ],
   "source": [
    "print(f'There are {len(set(eval_set_df.main_ingredient))} food items in the test set')"
   ]
  },
  {
   "cell_type": "code",
   "execution_count": 118,
   "id": "6e50d1db",
   "metadata": {},
   "outputs": [
    {
     "data": {
      "text/plain": [
       "<Axes: xlabel='main_ingredient'>"
      ]
     },
     "execution_count": 118,
     "metadata": {},
     "output_type": "execute_result"
    },
    {
     "data": {
      "image/png": "[encoded data removed]",
      "text/plain": [
       "<Figure size 640x480 with 1 Axes>"
      ]
     },
     "metadata": {},
     "output_type": "display_data"
    }
   ],
   "source": [
    "eval_set_df.main_ingredient.value_counts().plot.bar()"
   ]
  },
  {
   "cell_type": "markdown",
   "id": "9d5ddf8d",
   "metadata": {},
   "source": [
    "### Let's see the main ingeredients predicted"
   ]
  },
  {
   "cell_type": "code",
   "execution_count": 119,
   "id": "0fc82e7b",
   "metadata": {},
   "outputs": [],
   "source": [
    "# The NER model with highest F-score\n",
    "model_path = Path(BASE_DIR) / \"models/NER/model-best\"\n",
    "model = spacy.load(model_path)\n"
   ]
  },
  {
   "cell_type": "code",
   "execution_count": 120,
   "id": "2dabbcfd",
   "metadata": {},
   "outputs": [],
   "source": [
    "eval_set_df['main_ingredient_pred'] = eval_set_df.ingredients.map(lambda x: model(x).ents[0].text if model(x).ents!=() else \"\")"
   ]
  },
  {
   "cell_type": "code",
   "execution_count": 121,
   "id": "21e335f3",
   "metadata": {},
   "outputs": [
    {
     "data": {
      "text/html": [
       "<div>\n",
       "<style scoped>\n",
       "    .dataframe tbody tr th:only-of-type {\n",
       "        vertical-align: middle;\n",
       "    }\n",
       "\n",
       "    .dataframe tbody tr th {\n",
       "        vertical-align: top;\n",
       "    }\n",
       "\n",
       "    .dataframe thead th {\n",
       "        text-align: right;\n",
       "    }\n",
       "</style>\n",
       "<table border=\"1\" class=\"dataframe\">\n",
       "  <thead>\n",
       "    <tr style=\"text-align: right;\">\n",
       "      <th></th>\n",
       "      <th>ingredients</th>\n",
       "      <th>main_ingredient</th>\n",
       "      <th>main_ingredient_pred</th>\n",
       "    </tr>\n",
       "  </thead>\n",
       "  <tbody>\n",
       "    <tr>\n",
       "      <th>0</th>\n",
       "      <td>large sweet potato (250g), cut into 2½cm-thic...</td>\n",
       "      <td>sweet potato</td>\n",
       "      <td>sweet potato</td>\n",
       "    </tr>\n",
       "    <tr>\n",
       "      <th>1</th>\n",
       "      <td>olive oil</td>\n",
       "      <td></td>\n",
       "      <td></td>\n",
       "    </tr>\n",
       "    <tr>\n",
       "      <th>2</th>\n",
       "      <td>salt and black pepper</td>\n",
       "      <td></td>\n",
       "      <td></td>\n",
       "    </tr>\n",
       "    <tr>\n",
       "      <th>3</th>\n",
       "      <td>garlic cloves, peeled and thinly sliced</td>\n",
       "      <td></td>\n",
       "      <td></td>\n",
       "    </tr>\n",
       "    <tr>\n",
       "      <th>4</th>\n",
       "      <td>tomato passata</td>\n",
       "      <td>tomato</td>\n",
       "      <td>tomato</td>\n",
       "    </tr>\n",
       "    <tr>\n",
       "      <th>5</th>\n",
       "      <td>caster sugar</td>\n",
       "      <td></td>\n",
       "      <td></td>\n",
       "    </tr>\n",
       "    <tr>\n",
       "      <th>6</th>\n",
       "      <td>datterini tomatoes (or regular cherry tomatoes)</td>\n",
       "      <td>tomatoes</td>\n",
       "      <td>tomatoes</td>\n",
       "    </tr>\n",
       "    <tr>\n",
       "      <th>7</th>\n",
       "      <td>roughly chopped coriander leaves, plus 1 tbsp...</td>\n",
       "      <td></td>\n",
       "      <td></td>\n",
       "    </tr>\n",
       "    <tr>\n",
       "      <th>8</th>\n",
       "      <td>greek feta, roughly crumbled into large chunks</td>\n",
       "      <td></td>\n",
       "      <td></td>\n",
       "    </tr>\n",
       "    <tr>\n",
       "      <th>9</th>\n",
       "      <td>pre-cooked jasmine rice or 180g jasmine rice ...</td>\n",
       "      <td>rice</td>\n",
       "      <td>cooked</td>\n",
       "    </tr>\n",
       "  </tbody>\n",
       "</table>\n",
       "</div>"
      ],
      "text/plain": [
       "                                         ingredients main_ingredient  \\\n",
       "0   large sweet potato (250g), cut into 2½cm-thic...    sweet potato   \n",
       "1                                          olive oil                   \n",
       "2                              salt and black pepper                   \n",
       "3            garlic cloves, peeled and thinly sliced                   \n",
       "4                                     tomato passata          tomato   \n",
       "5                                       caster sugar                   \n",
       "6    datterini tomatoes (or regular cherry tomatoes)        tomatoes   \n",
       "7   roughly chopped coriander leaves, plus 1 tbsp...                   \n",
       "8     greek feta, roughly crumbled into large chunks                   \n",
       "9   pre-cooked jasmine rice or 180g jasmine rice ...            rice   \n",
       "\n",
       "  main_ingredient_pred  \n",
       "0         sweet potato  \n",
       "1                       \n",
       "2                       \n",
       "3                       \n",
       "4               tomato  \n",
       "5                       \n",
       "6             tomatoes  \n",
       "7                       \n",
       "8                       \n",
       "9               cooked  "
      ]
     },
     "execution_count": 121,
     "metadata": {},
     "output_type": "execute_result"
    }
   ],
   "source": [
    "eval_set_df.head(10)"
   ]
  },
  {
   "cell_type": "code",
   "execution_count": 122,
   "id": "4f78f172",
   "metadata": {},
   "outputs": [
    {
     "data": {
      "text/plain": [
       "np.int64(270)"
      ]
     },
     "execution_count": 122,
     "metadata": {},
     "output_type": "execute_result"
    }
   ],
   "source": [
    "(eval_set_df.main_ingredient == eval_set_df.main_ingredient_pred).sum()"
   ]
  },
  {
   "cell_type": "code",
   "execution_count": 123,
   "id": "b4e24bc0",
   "metadata": {},
   "outputs": [
    {
     "data": {
      "text/plain": [
       "main_ingredient\n",
       "                228\n",
       "prawns            5\n",
       "rocket            5\n",
       "corn              4\n",
       "aubergines        3\n",
       "chicken           2\n",
       "lamb              2\n",
       "rice              2\n",
       "tofu              2\n",
       "cauliflower       2\n",
       "lentils           1\n",
       "peppers           1\n",
       "salmon            1\n",
       "fennel            1\n",
       "carrots           1\n",
       "turnips           1\n",
       "sweet potato      1\n",
       "spinach           1\n",
       "celeriac          1\n",
       "eggs              1\n",
       "egg               1\n",
       "swiss chard       1\n",
       "pasta             1\n",
       "pak choi          1\n",
       "tomatoes          1\n",
       "tomato            1\n",
       "chickpeas         1\n",
       "Name: count, dtype: int64"
      ]
     },
     "execution_count": 123,
     "metadata": {},
     "output_type": "execute_result"
    }
   ],
   "source": [
    "eval_set_df.main_ingredient.value_counts()"
   ]
  },
  {
   "cell_type": "code",
   "execution_count": 124,
   "id": "69b3d95c",
   "metadata": {},
   "outputs": [
    {
     "name": "stdout",
     "output_type": "stream",
     "text": [
      "    main_ingredient main_ingredient_pred\n",
      "9              rice               cooked\n",
      "253       chickpeas     cooked chickpeas\n"
     ]
    }
   ],
   "source": [
    "print(eval_set_df[(eval_set_df.main_ingredient != eval_set_df.main_ingredient_pred)][['main_ingredient', 'main_ingredient_pred']])"
   ]
  },
  {
   "cell_type": "code",
   "execution_count": null,
   "id": "c7047342",
   "metadata": {},
   "outputs": [],
   "source": []
  }
 ],
 "metadata": {
  "kernelspec": {
   "display_name": ".venv (3.12.2)",
   "language": "python",
   "name": "python3"
  },
  "language_info": {
   "codemirror_mode": {
    "name": "ipython",
    "version": 3
   },
   "file_extension": ".py",
   "mimetype": "text/x-python",
   "name": "python",
   "nbconvert_exporter": "python",
   "pygments_lexer": "ipython3",
   "version": "3.12.2"
  }
 },
 "nbformat": 4,
 "nbformat_minor": 5
}
