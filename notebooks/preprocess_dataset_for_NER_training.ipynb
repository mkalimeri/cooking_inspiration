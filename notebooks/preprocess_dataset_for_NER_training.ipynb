{
 "cells": [
  {
   "cell_type": "markdown",
   "id": "647d1e16-aaad-423b-b457-617cf8314442",
   "metadata": {},
   "source": [
    "# Preprocess datasets and create docbins for training of spacy NER model\n",
    "\n",
    "In this notebook, I read the datasets (in csv format) that were created in **create_dataset_for_NER.ipynb**. These datasets were annotated manually after their creation. After reading them, I create columns that are needed for the data to be processed by a SpaCy pipeline, with the purpose to recognise if a given ingredient is considered a \"main ingredient\", based on the specifications given in **create_dataset_for_NER.ipynb**. The final product are to .spacy docbin files, that can be used as input for training my NER Spacy model."
   ]
  },
  {
   "cell_type": "code",
   "execution_count": 1,
   "id": "ad35bd7d-048e-49a0-9147-c6a95fabf6db",
   "metadata": {},
   "outputs": [],
   "source": [
    "from pathlib import Path\n",
    "\n",
    "import pandas as pd\n",
    "import numpy as np\n",
    "\n",
    "import spacy\n",
    "from spacy.tokens import Span, DocBin"
   ]
  },
  {
   "cell_type": "code",
   "execution_count": 8,
   "id": "39abc204-d3ba-4ca8-86cc-b40674c67540",
   "metadata": {},
   "outputs": [],
   "source": [
    "BASE_DIR = Path().resolve().parent\n",
    "\n",
    "def data_path(folder, file_name):\n",
    "    return Path(BASE_DIR) / f\"data/{folder}/{file_name}\"\n",
    "\n",
    "def create_doc_columns(df, label='FOOD'):\n",
    "    nlp = spacy.blank('en')\n",
    "\n",
    "    df['ingredients'] = df['ingredients'].map(lambda x: x.lower())\n",
    "    df['main_ingredient'] = df['main_ingredient'].map(lambda x: x.lower())\n",
    "    df['start_idx'] = df.apply(lambda x: x.ingredients.find(x.main_ingredient), axis=1)\n",
    "    df['end_idx'] = df.apply(lambda x: x.start_idx + len(x.main_ingredient), axis=1)\n",
    "    df['doc'] = df.ingredients.map(lambda x: nlp(x))\n",
    "    df['span'] = df.apply(lambda x: x.doc.char_span(x.start_idx, x.end_idx, label=label) if x.start_idx>-1 else None, axis=1)\n",
    "\n",
    "    return df\n",
    "\n",
    "def create_docbin_with_data(df):\n",
    "    db = DocBin()\n",
    "\n",
    "    for i in range(df.shape[0]):\n",
    "        if df['span'].iloc[i] is not None:\n",
    "            df['doc'].iloc[i].set_ents([df['span'].iloc[i]], default=\"unmodified\")\n",
    "        else:\n",
    "            df['doc'].iloc[i].ents = []\n",
    "        \n",
    "        db.add(df['doc'].iloc[i])\n",
    "\n",
    "    return db\n"
   ]
  },
  {
   "cell_type": "markdown",
   "id": "18588245-9d81-4b39-8f9f-11380bb71e80",
   "metadata": {},
   "source": [
    "### Create the train dataset"
   ]
  },
  {
   "cell_type": "code",
   "execution_count": 12,
   "id": "12e60c06-1bf4-4975-bd80-263fb8c5076f",
   "metadata": {},
   "outputs": [
    {
     "data": {
      "text/html": [
       "<div>\n",
       "<style scoped>\n",
       "    .dataframe tbody tr th:only-of-type {\n",
       "        vertical-align: middle;\n",
       "    }\n",
       "\n",
       "    .dataframe tbody tr th {\n",
       "        vertical-align: top;\n",
       "    }\n",
       "\n",
       "    .dataframe thead th {\n",
       "        text-align: right;\n",
       "    }\n",
       "</style>\n",
       "<table border=\"1\" class=\"dataframe\">\n",
       "  <thead>\n",
       "    <tr style=\"text-align: right;\">\n",
       "      <th></th>\n",
       "      <th>ingredients;main_ingredient</th>\n",
       "    </tr>\n",
       "  </thead>\n",
       "  <tbody>\n",
       "    <tr>\n",
       "      <th>0</th>\n",
       "      <td>ROSEMARY-CORNMEAL CRUST:;</td>\n",
       "    </tr>\n",
       "    <tr>\n",
       "      <th>1</th>\n",
       "      <td>3/4 cup all-purpose flour;</td>\n",
       "    </tr>\n",
       "    <tr>\n",
       "      <th>2</th>\n",
       "      <td>1/2 cup plain white cornmeal;</td>\n",
       "    </tr>\n",
       "    <tr>\n",
       "      <th>3</th>\n",
       "      <td>1/4 cup powdered sugar;</td>\n",
       "    </tr>\n",
       "    <tr>\n",
       "      <th>4</th>\n",
       "      <td>2 teaspoons chopped fresh rosemary;</td>\n",
       "    </tr>\n",
       "    <tr>\n",
       "      <th>...</th>\n",
       "      <td>...</td>\n",
       "    </tr>\n",
       "    <tr>\n",
       "      <th>1966</th>\n",
       "      <td>coriander, leaves and stalks separated;coriander</td>\n",
       "    </tr>\n",
       "    <tr>\n",
       "      <th>1967</th>\n",
       "      <td>1 tbs celery seeds;</td>\n",
       "    </tr>\n",
       "    <tr>\n",
       "      <th>1968</th>\n",
       "      <td>celery seeds;</td>\n",
       "    </tr>\n",
       "    <tr>\n",
       "      <th>1969</th>\n",
       "      <td>fennel seeds, toasted;</td>\n",
       "    </tr>\n",
       "    <tr>\n",
       "      <th>1970</th>\n",
       "      <td>d2 tbs fennel seeds;</td>\n",
       "    </tr>\n",
       "  </tbody>\n",
       "</table>\n",
       "<p>1971 rows × 1 columns</p>\n",
       "</div>"
      ],
      "text/plain": [
       "                            ingredients;main_ingredient\n",
       "0                             ROSEMARY-CORNMEAL CRUST:;\n",
       "1                            3/4 cup all-purpose flour;\n",
       "2                         1/2 cup plain white cornmeal;\n",
       "3                               1/4 cup powdered sugar;\n",
       "4                   2 teaspoons chopped fresh rosemary;\n",
       "...                                                 ...\n",
       "1966   coriander, leaves and stalks separated;coriander\n",
       "1967                                1 tbs celery seeds;\n",
       "1968                                      celery seeds;\n",
       "1969                             fennel seeds, toasted;\n",
       "1970                               d2 tbs fennel seeds;\n",
       "\n",
       "[1971 rows x 1 columns]"
      ]
     },
     "execution_count": 12,
     "metadata": {},
     "output_type": "execute_result"
    }
   ],
   "source": [
    "# Read train dataset\n",
    "ingredients_rows_df = pd.read_csv(data_path(\"interim\", \"selected_ingrendiens_NER.csv\"), encoding='latin-1', sep='\\t')\n",
    "ingredients_rows_df"
   ]
  },
  {
   "cell_type": "code",
   "execution_count": 13,
   "id": "d5ae4f36-b22f-4057-83e8-9ddb691d86b3",
   "metadata": {},
   "outputs": [],
   "source": [
    "# Correct the split of the dataset \n",
    "ingredients_ner_df = pd.concat([ingredients_rows_df, ingredients_rows_df['ingredients;main_ingredient'].str.split(';', expand=True)], axis=1).drop(['ingredients;main_ingredient'], axis=1)\n",
    "ingredients_ner_df.rename(columns = {0: 'ingredients', 1: 'main_ingredient'}, inplace=True)"
   ]
  },
  {
   "cell_type": "code",
   "execution_count": 5,
   "id": "b9c29d49-8dd2-43e9-9304-aa6b5a409262",
   "metadata": {},
   "outputs": [
    {
     "data": {
      "text/html": [
       "<div>\n",
       "<style scoped>\n",
       "    .dataframe tbody tr th:only-of-type {\n",
       "        vertical-align: middle;\n",
       "    }\n",
       "\n",
       "    .dataframe tbody tr th {\n",
       "        vertical-align: top;\n",
       "    }\n",
       "\n",
       "    .dataframe thead th {\n",
       "        text-align: right;\n",
       "    }\n",
       "</style>\n",
       "<table border=\"1\" class=\"dataframe\">\n",
       "  <thead>\n",
       "    <tr style=\"text-align: right;\">\n",
       "      <th></th>\n",
       "      <th>ingredients</th>\n",
       "      <th>main_ingredient</th>\n",
       "    </tr>\n",
       "  </thead>\n",
       "  <tbody>\n",
       "    <tr>\n",
       "      <th>0</th>\n",
       "      <td>ROSEMARY-CORNMEAL CRUST:</td>\n",
       "      <td></td>\n",
       "    </tr>\n",
       "    <tr>\n",
       "      <th>1</th>\n",
       "      <td>3/4 cup all-purpose flour</td>\n",
       "      <td></td>\n",
       "    </tr>\n",
       "    <tr>\n",
       "      <th>2</th>\n",
       "      <td>1/2 cup plain white cornmeal</td>\n",
       "      <td></td>\n",
       "    </tr>\n",
       "    <tr>\n",
       "      <th>3</th>\n",
       "      <td>1/4 cup powdered sugar</td>\n",
       "      <td></td>\n",
       "    </tr>\n",
       "    <tr>\n",
       "      <th>4</th>\n",
       "      <td>2 teaspoons chopped fresh rosemary</td>\n",
       "      <td></td>\n",
       "    </tr>\n",
       "  </tbody>\n",
       "</table>\n",
       "</div>"
      ],
      "text/plain": [
       "                          ingredients main_ingredient\n",
       "0            ROSEMARY-CORNMEAL CRUST:                \n",
       "1           3/4 cup all-purpose flour                \n",
       "2        1/2 cup plain white cornmeal                \n",
       "3              1/4 cup powdered sugar                \n",
       "4  2 teaspoons chopped fresh rosemary                "
      ]
     },
     "execution_count": 5,
     "metadata": {},
     "output_type": "execute_result"
    }
   ],
   "source": [
    "ingredients_ner_df.head()"
   ]
  },
  {
   "cell_type": "code",
   "execution_count": 6,
   "id": "3c32efdd-e5ff-4742-9e43-401cfd45ee08",
   "metadata": {},
   "outputs": [],
   "source": [
    "ingredients_ner_df = create_doc_columns(ingredients_ner_df)"
   ]
  },
  {
   "cell_type": "code",
   "execution_count": 7,
   "id": "a934ea13-46b1-4a7f-a8f0-0f8e4b8420c9",
   "metadata": {},
   "outputs": [
    {
     "data": {
      "text/html": [
       "<div>\n",
       "<style scoped>\n",
       "    .dataframe tbody tr th:only-of-type {\n",
       "        vertical-align: middle;\n",
       "    }\n",
       "\n",
       "    .dataframe tbody tr th {\n",
       "        vertical-align: top;\n",
       "    }\n",
       "\n",
       "    .dataframe thead th {\n",
       "        text-align: right;\n",
       "    }\n",
       "</style>\n",
       "<table border=\"1\" class=\"dataframe\">\n",
       "  <thead>\n",
       "    <tr style=\"text-align: right;\">\n",
       "      <th></th>\n",
       "      <th>ingredients</th>\n",
       "      <th>main_ingredient</th>\n",
       "      <th>start_idx</th>\n",
       "      <th>end_idx</th>\n",
       "      <th>doc</th>\n",
       "      <th>span</th>\n",
       "    </tr>\n",
       "  </thead>\n",
       "  <tbody>\n",
       "    <tr>\n",
       "      <th>0</th>\n",
       "      <td>rosemary-cornmeal crust:</td>\n",
       "      <td></td>\n",
       "      <td>0</td>\n",
       "      <td>0</td>\n",
       "      <td>(rosemary, -, cornmeal, crust, :)</td>\n",
       "      <td>None</td>\n",
       "    </tr>\n",
       "    <tr>\n",
       "      <th>1</th>\n",
       "      <td>3/4 cup all-purpose flour</td>\n",
       "      <td></td>\n",
       "      <td>0</td>\n",
       "      <td>0</td>\n",
       "      <td>(3/4, cup, all, -, purpose, flour)</td>\n",
       "      <td>None</td>\n",
       "    </tr>\n",
       "    <tr>\n",
       "      <th>2</th>\n",
       "      <td>1/2 cup plain white cornmeal</td>\n",
       "      <td></td>\n",
       "      <td>0</td>\n",
       "      <td>0</td>\n",
       "      <td>(1/2, cup, plain, white, cornmeal)</td>\n",
       "      <td>None</td>\n",
       "    </tr>\n",
       "    <tr>\n",
       "      <th>3</th>\n",
       "      <td>1/4 cup powdered sugar</td>\n",
       "      <td></td>\n",
       "      <td>0</td>\n",
       "      <td>0</td>\n",
       "      <td>(1/4, cup, powdered, sugar)</td>\n",
       "      <td>None</td>\n",
       "    </tr>\n",
       "    <tr>\n",
       "      <th>4</th>\n",
       "      <td>2 teaspoons chopped fresh rosemary</td>\n",
       "      <td></td>\n",
       "      <td>0</td>\n",
       "      <td>0</td>\n",
       "      <td>(2, teaspoons, chopped, fresh, rosemary)</td>\n",
       "      <td>None</td>\n",
       "    </tr>\n",
       "  </tbody>\n",
       "</table>\n",
       "</div>"
      ],
      "text/plain": [
       "                          ingredients main_ingredient  start_idx  end_idx  \\\n",
       "0            rosemary-cornmeal crust:                          0        0   \n",
       "1           3/4 cup all-purpose flour                          0        0   \n",
       "2        1/2 cup plain white cornmeal                          0        0   \n",
       "3              1/4 cup powdered sugar                          0        0   \n",
       "4  2 teaspoons chopped fresh rosemary                          0        0   \n",
       "\n",
       "                                        doc  span  \n",
       "0         (rosemary, -, cornmeal, crust, :)  None  \n",
       "1        (3/4, cup, all, -, purpose, flour)  None  \n",
       "2        (1/2, cup, plain, white, cornmeal)  None  \n",
       "3               (1/4, cup, powdered, sugar)  None  \n",
       "4  (2, teaspoons, chopped, fresh, rosemary)  None  "
      ]
     },
     "execution_count": 7,
     "metadata": {},
     "output_type": "execute_result"
    }
   ],
   "source": [
    "ingredients_ner_df.head()"
   ]
  },
  {
   "cell_type": "code",
   "execution_count": 10,
   "id": "bb1884e8-0031-4bf9-8ead-0668d2949c06",
   "metadata": {},
   "outputs": [],
   "source": [
    "db = create_docbin_with_data(ingredients_ner_df)"
   ]
  },
  {
   "cell_type": "code",
   "execution_count": 11,
   "id": "39bb3843-d06d-4daf-936c-0b401c49e73d",
   "metadata": {},
   "outputs": [
    {
     "name": "stdout",
     "output_type": "stream",
     "text": [
      "1971\n"
     ]
    }
   ],
   "source": [
    "print(db.__len__())\n",
    "db.to_disk(\"train.spacy\") "
   ]
  },
  {
   "cell_type": "markdown",
   "id": "86b8cbb2-c2b0-4e0f-8b24-13623ba10e31",
   "metadata": {},
   "source": [
    "### Create the evaluation dataset"
   ]
  },
  {
   "cell_type": "code",
   "execution_count": 14,
   "id": "226f8cc2-ad5b-4e67-88b0-80ab57719592",
   "metadata": {},
   "outputs": [
    {
     "data": {
      "text/html": [
       "<div>\n",
       "<style scoped>\n",
       "    .dataframe tbody tr th:only-of-type {\n",
       "        vertical-align: middle;\n",
       "    }\n",
       "\n",
       "    .dataframe tbody tr th {\n",
       "        vertical-align: top;\n",
       "    }\n",
       "\n",
       "    .dataframe thead th {\n",
       "        text-align: right;\n",
       "    }\n",
       "</style>\n",
       "<table border=\"1\" class=\"dataframe\">\n",
       "  <thead>\n",
       "    <tr style=\"text-align: right;\">\n",
       "      <th></th>\n",
       "      <th>ingredients;main_ingredient</th>\n",
       "    </tr>\n",
       "  </thead>\n",
       "  <tbody>\n",
       "    <tr>\n",
       "      <th>0</th>\n",
       "      <td>large sweet potato (250g), cut into 2Â½cm-thi...</td>\n",
       "    </tr>\n",
       "    <tr>\n",
       "      <th>1</th>\n",
       "      <td>olive oil;</td>\n",
       "    </tr>\n",
       "    <tr>\n",
       "      <th>2</th>\n",
       "      <td>salt and black pepper;</td>\n",
       "    </tr>\n",
       "    <tr>\n",
       "      <th>3</th>\n",
       "      <td>garlic cloves, peeled and thinly sliced;</td>\n",
       "    </tr>\n",
       "    <tr>\n",
       "      <th>4</th>\n",
       "      <td>tomato passata;</td>\n",
       "    </tr>\n",
       "    <tr>\n",
       "      <th>...</th>\n",
       "      <td>...</td>\n",
       "    </tr>\n",
       "    <tr>\n",
       "      <th>267</th>\n",
       "      <td>cumin seedsÂ ;</td>\n",
       "    </tr>\n",
       "    <tr>\n",
       "      <th>268</th>\n",
       "      <td>red chillies, finely sliced on an angle (dese...</td>\n",
       "    </tr>\n",
       "    <tr>\n",
       "      <th>269</th>\n",
       "      <td>spring onions, finely sliced on an angle;</td>\n",
       "    </tr>\n",
       "    <tr>\n",
       "      <th>270</th>\n",
       "      <td>coriander, leaves and stalks separated;coriander</td>\n",
       "    </tr>\n",
       "    <tr>\n",
       "      <th>271</th>\n",
       "      <td>rice-wine vinegar;</td>\n",
       "    </tr>\n",
       "  </tbody>\n",
       "</table>\n",
       "<p>272 rows × 1 columns</p>\n",
       "</div>"
      ],
      "text/plain": [
       "                           ingredients;main_ingredient\n",
       "0     large sweet potato (250g), cut into 2Â½cm-thi...\n",
       "1                                           olive oil;\n",
       "2                               salt and black pepper;\n",
       "3             garlic cloves, peeled and thinly sliced;\n",
       "4                                      tomato passata;\n",
       "..                                                 ...\n",
       "267                                     cumin seedsÂ ;\n",
       "268   red chillies, finely sliced on an angle (dese...\n",
       "269          spring onions, finely sliced on an angle;\n",
       "270   coriander, leaves and stalks separated;coriander\n",
       "271                                 rice-wine vinegar;\n",
       "\n",
       "[272 rows x 1 columns]"
      ]
     },
     "execution_count": 14,
     "metadata": {},
     "output_type": "execute_result"
    }
   ],
   "source": [
    "# Read the annotated dev dataset\n",
    "\n",
    "dev_set_df =pd.read_csv(Path(BASE_DIR) / f\"data/interim/dev_set.csv\", encoding='latin-1', sep='\\t')\n",
    "dev_set_df"
   ]
  },
  {
   "cell_type": "code",
   "execution_count": 15,
   "id": "7f816d3e-06a2-40d9-97fe-6c66718dcadc",
   "metadata": {},
   "outputs": [],
   "source": [
    "dev_set_df = pd.concat([dev_set_df, dev_set_df['ingredients;main_ingredient'].str.split(';', expand=True)], axis=1).drop(['ingredients;main_ingredient'], axis=1)\n",
    "dev_set_df.rename(columns = {0: 'ingredients', 1: 'main_ingredient'}, inplace=True)"
   ]
  },
  {
   "cell_type": "code",
   "execution_count": 16,
   "id": "fe0cc93d-0f0b-4b38-addd-c2f8ee43b8b3",
   "metadata": {},
   "outputs": [
    {
     "data": {
      "text/html": [
       "<div>\n",
       "<style scoped>\n",
       "    .dataframe tbody tr th:only-of-type {\n",
       "        vertical-align: middle;\n",
       "    }\n",
       "\n",
       "    .dataframe tbody tr th {\n",
       "        vertical-align: top;\n",
       "    }\n",
       "\n",
       "    .dataframe thead th {\n",
       "        text-align: right;\n",
       "    }\n",
       "</style>\n",
       "<table border=\"1\" class=\"dataframe\">\n",
       "  <thead>\n",
       "    <tr style=\"text-align: right;\">\n",
       "      <th></th>\n",
       "      <th>ingredients</th>\n",
       "      <th>main_ingredient</th>\n",
       "      <th>start_idx</th>\n",
       "      <th>end_idx</th>\n",
       "      <th>doc</th>\n",
       "      <th>span</th>\n",
       "    </tr>\n",
       "  </thead>\n",
       "  <tbody>\n",
       "    <tr>\n",
       "      <th>0</th>\n",
       "      <td>large sweet potato (250g), cut into 2â½cm-thi...</td>\n",
       "      <td>sweet potato</td>\n",
       "      <td>7</td>\n",
       "      <td>19</td>\n",
       "      <td>( , large, sweet, potato, (, 250, g, ), ,, cut...</td>\n",
       "      <td>(sweet, potato)</td>\n",
       "    </tr>\n",
       "    <tr>\n",
       "      <th>1</th>\n",
       "      <td>olive oil</td>\n",
       "      <td></td>\n",
       "      <td>0</td>\n",
       "      <td>0</td>\n",
       "      <td>( , olive, oil)</td>\n",
       "      <td>None</td>\n",
       "    </tr>\n",
       "    <tr>\n",
       "      <th>2</th>\n",
       "      <td>salt and black pepper</td>\n",
       "      <td></td>\n",
       "      <td>0</td>\n",
       "      <td>0</td>\n",
       "      <td>( , salt, and, black, pepper)</td>\n",
       "      <td>None</td>\n",
       "    </tr>\n",
       "    <tr>\n",
       "      <th>3</th>\n",
       "      <td>garlic cloves, peeled and thinly sliced</td>\n",
       "      <td></td>\n",
       "      <td>0</td>\n",
       "      <td>0</td>\n",
       "      <td>( , garlic, cloves, ,, peeled, and, thinly, sl...</td>\n",
       "      <td>None</td>\n",
       "    </tr>\n",
       "    <tr>\n",
       "      <th>4</th>\n",
       "      <td>tomato passata</td>\n",
       "      <td></td>\n",
       "      <td>0</td>\n",
       "      <td>0</td>\n",
       "      <td>( , tomato, passata)</td>\n",
       "      <td>None</td>\n",
       "    </tr>\n",
       "  </tbody>\n",
       "</table>\n",
       "</div>"
      ],
      "text/plain": [
       "                                         ingredients main_ingredient  \\\n",
       "0   large sweet potato (250g), cut into 2â½cm-thi...    sweet potato   \n",
       "1                                          olive oil                   \n",
       "2                              salt and black pepper                   \n",
       "3            garlic cloves, peeled and thinly sliced                   \n",
       "4                                     tomato passata                   \n",
       "\n",
       "   start_idx  end_idx                                                doc  \\\n",
       "0          7       19  ( , large, sweet, potato, (, 250, g, ), ,, cut...   \n",
       "1          0        0                                    ( , olive, oil)   \n",
       "2          0        0                      ( , salt, and, black, pepper)   \n",
       "3          0        0  ( , garlic, cloves, ,, peeled, and, thinly, sl...   \n",
       "4          0        0                               ( , tomato, passata)   \n",
       "\n",
       "              span  \n",
       "0  (sweet, potato)  \n",
       "1             None  \n",
       "2             None  \n",
       "3             None  \n",
       "4             None  "
      ]
     },
     "execution_count": 16,
     "metadata": {},
     "output_type": "execute_result"
    }
   ],
   "source": [
    "dev_set_df = create_doc_columns(dev_set_df)\n",
    "dev_set_df.head()"
   ]
  },
  {
   "cell_type": "code",
   "execution_count": 17,
   "id": "2fe02429-3590-44c2-a9c5-9d7c6499b207",
   "metadata": {},
   "outputs": [],
   "source": [
    "db = create_docbin_with_data(dev_set_df)"
   ]
  },
  {
   "cell_type": "code",
   "execution_count": 18,
   "id": "38fb8162-90b4-47a2-bc03-23ba2677c45b",
   "metadata": {},
   "outputs": [
    {
     "name": "stdout",
     "output_type": "stream",
     "text": [
      "272\n"
     ]
    }
   ],
   "source": [
    "print(db.__len__())\n",
    "db.to_disk(\"eval.spacy\") "
   ]
  },
  {
   "cell_type": "code",
   "execution_count": null,
   "id": "e45b53ba-0f08-47f1-928a-e7c64930b77b",
   "metadata": {},
   "outputs": [],
   "source": []
  },
  {
   "cell_type": "code",
   "execution_count": null,
   "id": "5e18ae54-c0e0-4c8a-b066-a5fdb864a635",
   "metadata": {},
   "outputs": [],
   "source": []
  },
  {
   "cell_type": "code",
   "execution_count": null,
   "id": "ba9ae18a-66a8-4f74-af64-e760e3e23a44",
   "metadata": {},
   "outputs": [],
   "source": []
  },
  {
   "cell_type": "code",
   "execution_count": null,
   "id": "2e8675fd-3fb5-4c9c-92ee-85c21e1c9df4",
   "metadata": {},
   "outputs": [],
   "source": []
  },
  {
   "cell_type": "code",
   "execution_count": null,
   "id": "77eb12cd-8490-4a2d-8d53-33beb4413dde",
   "metadata": {},
   "outputs": [],
   "source": []
  },
  {
   "cell_type": "code",
   "execution_count": null,
   "id": "b0711162-d17e-4d84-969e-e0c7dbd9e38b",
   "metadata": {},
   "outputs": [],
   "source": []
  },
  {
   "cell_type": "code",
   "execution_count": null,
   "id": "0b98bbe1",
   "metadata": {},
   "outputs": [],
   "source": []
  },
  {
   "cell_type": "code",
   "execution_count": null,
   "id": "7ff19307",
   "metadata": {},
   "outputs": [],
   "source": []
  }
 ],
 "metadata": {
  "kernelspec": {
   "display_name": "Python 3 (ipykernel)",
   "language": "python",
   "name": "python3"
  },
  "language_info": {
   "codemirror_mode": {
    "name": "ipython",
    "version": 3
   },
   "file_extension": ".py",
   "mimetype": "text/x-python",
   "name": "python",
   "nbconvert_exporter": "python",
   "pygments_lexer": "ipython3",
   "version": "3.12.2"
  }
 },
 "nbformat": 4,
 "nbformat_minor": 5
}
