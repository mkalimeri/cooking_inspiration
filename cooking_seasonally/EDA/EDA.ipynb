{
 "cells": [
  {
   "cell_type": "code",
   "execution_count": 1,
   "id": "f6b00203-9226-4262-8d06-02472be9bd74",
   "metadata": {},
   "outputs": [
    {
     "ename": "ModuleNotFoundError",
     "evalue": "No module named 'cooking_seasonally'",
     "output_type": "error",
     "traceback": [
      "\u001b[31m---------------------------------------------------------------------------\u001b[39m",
      "\u001b[31mModuleNotFoundError\u001b[39m                       Traceback (most recent call last)",
      "\u001b[36mCell\u001b[39m\u001b[36m \u001b[39m\u001b[32mIn[1]\u001b[39m\u001b[32m, line 7\u001b[39m\n\u001b[32m      3\u001b[39m \u001b[38;5;28;01mimport\u001b[39;00m\u001b[38;5;250m \u001b[39m\u001b[34;01mjson\u001b[39;00m\n\u001b[32m      5\u001b[39m \u001b[38;5;28;01mimport\u001b[39;00m\u001b[38;5;250m \u001b[39m\u001b[34;01mpandas\u001b[39;00m\u001b[38;5;250m \u001b[39m\u001b[38;5;28;01mas\u001b[39;00m\u001b[38;5;250m \u001b[39m\u001b[34;01mpd\u001b[39;00m\n\u001b[32m----> \u001b[39m\u001b[32m7\u001b[39m \u001b[38;5;28;01mfrom\u001b[39;00m\u001b[38;5;250m \u001b[39m\u001b[34;01mcooking_seasonally\u001b[39;00m\u001b[34;01m.\u001b[39;00m\u001b[34;01mhelpers\u001b[39;00m\u001b[34;01m.\u001b[39;00m\u001b[34;01mrecipe\u001b[39;00m\u001b[38;5;250m \u001b[39m\u001b[38;5;28;01mimport\u001b[39;00m Recipe\n\u001b[32m      8\u001b[39m \u001b[38;5;28;01mfrom\u001b[39;00m\u001b[38;5;250m \u001b[39m\u001b[34;01mcooking_seasonally\u001b[39;00m\u001b[34;01m.\u001b[39;00m\u001b[34;01mhelpers\u001b[39;00m\u001b[34;01m.\u001b[39;00m\u001b[34;01mutils\u001b[39;00m\u001b[38;5;250m \u001b[39m\u001b[38;5;28;01mimport\u001b[39;00m get_json_files, get_recipes_from_json\n\u001b[32m      9\u001b[39m \u001b[38;5;28;01mfrom\u001b[39;00m\u001b[38;5;250m \u001b[39m\u001b[34;01mcooking_seasonally\u001b[39;00m\u001b[34;01m.\u001b[39;00m\u001b[34;01mhelpers\u001b[39;00m\u001b[34;01m.\u001b[39;00m\u001b[34;01mtext_processing\u001b[39;00m\u001b[38;5;250m \u001b[39m\u001b[38;5;28;01mimport\u001b[39;00m preprocess_ingredients, lemmatize, remove_item_if_in_list\n",
      "\u001b[31mModuleNotFoundError\u001b[39m: No module named 'cooking_seasonally'"
     ]
    }
   ],
   "source": [
    "from pathlib import Path\n",
    "import collections\n",
    "import json\n",
    "\n",
    "import pandas as pd\n",
    "\n",
    "from cooking_seasonally.helpers.recipe import Recipe\n",
    "from cooking_seasonally.helpers.utils import get_json_files, get_recipes_from_json\n",
    "from cooking_seasonally.helpers.text_processing import preprocess_ingredients, lemmatize, remove_item_if_in_list"
   ]
  },
  {
   "cell_type": "code",
   "execution_count": 2,
   "id": "42bd2d76-7750-47e6-afcf-d51f6663d0e0",
   "metadata": {},
   "outputs": [],
   "source": [
    "def prepare_ingredients_for_EDA(recipes_lst):\n",
    "    return [word for rec in recipes_lst for ingredient in preprocess_ingredients(rec.ingredients) for word in ingredient]\n",
    "\n",
    "def remove_duplicates(all_recipes):\n",
    "    result = []\n",
    "    for recipe in all_recipes:\n",
    "        if recipe not in result:\n",
    "            result.append(recipe)\n",
    "    return result"
   ]
  },
  {
   "cell_type": "code",
   "execution_count": 3,
   "id": "d360f046-2d2a-4f23-a063-b5481439b5e3",
   "metadata": {},
   "outputs": [
    {
     "data": {
      "text/plain": [
       "[PosixPath('/Users/mariakalimeri/Documents/cooking_seasonally/data/interim/ottolenghi_recipes.json')]"
      ]
     },
     "execution_count": 3,
     "metadata": {},
     "output_type": "execute_result"
    }
   ],
   "source": [
    "BASE_DIR = Path().resolve().parent.parent\n",
    "\n",
    "raw_jsn_dir_path = Path(BASE_DIR) / \"data/interim/\"\n",
    "recipe_files = get_json_files(raw_jsn_dir_path)\n",
    "recipe_files"
   ]
  },
  {
   "cell_type": "code",
   "execution_count": 4,
   "id": "492be699-48a6-49bf-81f4-9a586a822c54",
   "metadata": {},
   "outputs": [
    {
     "data": {
      "text/plain": [
       "['\\n',\n",
       " ' coconut milk ',\n",
       " ' olive oil ',\n",
       " ' picked mint leaves ',\n",
       " ' chives, finely chopped',\n",
       " ' picked parsley leaves ',\n",
       " ' garlic clove, peeled and crushed ',\n",
       " ' ',\n",
       " ' lime juice from 2 limes',\n",
       " ' ',\n",
       " ' baby white chicory, leaves picked  (60g)',\n",
       " ' baby red chicory (60g)',\n",
       " ' baby gem, leaves picked ',\n",
       " ' lebanese cucumber, cut into 6 cm long batons',\n",
       " ' rainbow radishes, cut in half, leaves left on ',\n",
       " '\\n',\n",
       " '\\n',\n",
       " ' sunflower seeds',\n",
       " ' ',\n",
       " ' ',\n",
       " ' ground turmeric',\n",
       " ' ',\n",
       " ' flaked salt ',\n",
       " ' golden caster sugar ']"
      ]
     },
     "execution_count": 4,
     "metadata": {},
     "output_type": "execute_result"
    }
   ],
   "source": [
    "all_recipes_list = get_recipes_from_json(recipe_files[0])\n",
    "all_recipes_list[0].ingredients"
   ]
  },
  {
   "cell_type": "code",
   "execution_count": 16,
   "id": "4db114af-81c7-481d-a332-5f9015361ba5",
   "metadata": {},
   "outputs": [],
   "source": [
    "# all_ingredients_list = prepare_ingredients_for_EDA(all_recipes_list)\n",
    "# all_ingredients_list"
   ]
  },
  {
   "cell_type": "code",
   "execution_count": 17,
   "id": "761275ba-f026-4532-8b30-1319c4d27e62",
   "metadata": {},
   "outputs": [],
   "source": [
    "recipe = all_recipes_list[1].ingredients\n",
    "list_to_ignore = ['sugar', 'salt', 'pepper', 'oil', 'garlic', 'onion', 'ketchup', 'mustard', 'vinegar', 'lemon', 'lime']\n",
    "list_of_measurements = ['g', 'gr', 'ts', 'tbs', 'cm']\n"
   ]
  },
  {
   "cell_type": "code",
   "execution_count": 18,
   "id": "cf33741b-4d6b-4bd6-9146-de2641110765",
   "metadata": {},
   "outputs": [
    {
     "data": {
      "text/plain": [
       "[' kale leaves, roughly torn',\n",
       " ' lemon juice',\n",
       " ' head romaine, trimmed, halved and sliced 2cm thick',\n",
       " ' mint leaves',\n",
       " ' parsley leaves and soft stems, picked',\n",
       " '\\n',\n",
       " ' tin chickpeas (400g), drained (240g)',\n",
       " ' olive oil',\n",
       " ' ',\n",
       " '\\n',\n",
       " ' red seedless grapes',\n",
       " ' olive oil',\n",
       " ' salt',\n",
       " '\\n',\n",
       " ' ',\n",
       " ' greek-style yoghurt',\n",
       " ' lemon juice (from 3 lemons)',\n",
       " ' garlic cloves, peeled and roughly chopped',\n",
       " ' parmesan, roughly grated plus 20g extra, finely grated to serve',\n",
       " ' anchovies in oil, drained (about 4-5)',\n",
       " ' english mustard',\n",
       " ' olive oil',\n",
       " ' salt and black pepper']"
      ]
     },
     "execution_count": 18,
     "metadata": {},
     "output_type": "execute_result"
    }
   ],
   "source": [
    "recipe"
   ]
  },
  {
   "cell_type": "code",
   "execution_count": 20,
   "id": "6f2ef453-6c19-492c-870d-428604d8046a",
   "metadata": {},
   "outputs": [
    {
     "data": {
      "text/plain": [
       "['kale leaves roughly torn',\n",
       " 'mint leaves',\n",
       " 'parsley leaves and soft stems picked',\n",
       " 'red seedless grapes',\n",
       " 'greekstyle yoghurt']"
      ]
     },
     "execution_count": 20,
     "metadata": {},
     "output_type": "execute_result"
    }
   ],
   "source": [
    "remove_item_if_in_list(preprocess_ingredients(recipe), list_to_ignore)"
   ]
  },
  {
   "cell_type": "code",
   "execution_count": null,
   "id": "752ccd98-a5e7-4a54-bafb-c679debb2a55",
   "metadata": {},
   "outputs": [],
   "source": []
  },
  {
   "cell_type": "code",
   "execution_count": 21,
   "id": "61a856ed-eb02-4b39-848b-108f7ecaf444",
   "metadata": {
    "scrolled": true
   },
   "outputs": [],
   "source": [
    "# word_counts = collections.Counter(all_ingredients_list)\n",
    "# word_counts"
   ]
  },
  {
   "cell_type": "code",
   "execution_count": null,
   "id": "062259ed-fbf8-4436-9c1d-feb5c9a1d0fa",
   "metadata": {},
   "outputs": [],
   "source": []
  },
  {
   "cell_type": "code",
   "execution_count": null,
   "id": "ef44c7c2-fb9d-4e4c-a09c-4544ce2da943",
   "metadata": {},
   "outputs": [],
   "source": []
  }
 ],
 "metadata": {
  "kernelspec": {
   "display_name": ".venv",
   "language": "python",
   "name": "python3"
  },
  "language_info": {
   "codemirror_mode": {
    "name": "ipython",
    "version": 3
   },
   "file_extension": ".py",
   "mimetype": "text/x-python",
   "name": "python",
   "nbconvert_exporter": "python",
   "pygments_lexer": "ipython3",
   "version": "3.12.2"
  }
 },
 "nbformat": 4,
 "nbformat_minor": 5
}
