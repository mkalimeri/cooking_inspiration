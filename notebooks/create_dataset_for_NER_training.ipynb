{
 "cells": [
  {
   "cell_type": "markdown",
   "id": "072a0531-b9cf-41bd-bd61-ac2d1fea3eb0",
   "metadata": {},
   "source": [
    "# Create NER datasets\n",
    "\n",
    "In this notebook, I created the training and test datasets that will be used to fine tune a Name Entity Recognition (NER) Spacy pipeline.\n",
    "\n",
    "The train dataset was created using the dataset available at https://www.kaggle.com/datasets/wilmerarltstrmberg/recipe-dataset-over-2m/data\n",
    "This is a very large datasetthat contains recipe information, including keywords that can be used for NER, with the aim to recognise ingredients necessary for receipes. The dataset contains recipes scapped from multiple websites.\n",
    "\n",
    "For this specific project, I wanted to only recognise \"main\" ingredients. For example, I am not interested in spices, sauces or pantry items such as oil, but rather in fresh ingredients and items such as pasta, rice and pulses. For this reason, for the train set, I chose 400 random recipes from one website, and annotated every ingredient I was interested in. For example, I annotated \"tomatoes\" but not \"olive oil\". Thus, I expect that olive oil will not be recognised as an ingredient, while \"tomatoes\" will. \n",
    "\n",
    "To evaluate the NER model, I used my main dataset. I randomly chose 20 recipes and performed the same process, annotating the ingredients of interest and leaving the rest blank.\n"
   ]
  },
  {
   "cell_type": "code",
   "execution_count": 1,
   "id": "ad35bd7d-048e-49a0-9147-c6a95fabf6db",
   "metadata": {},
   "outputs": [],
   "source": [
    "from pathlib import Path\n",
    "\n",
    "import pandas as pd\n",
    "import numpy as np\n",
    "\n",
    "import spacy\n",
    "from spacy.tokens import Span, DocBin"
   ]
  },
  {
   "cell_type": "code",
   "execution_count": 2,
   "id": "39abc204-d3ba-4ca8-86cc-b40674c67540",
   "metadata": {},
   "outputs": [
    {
     "data": {
      "text/plain": [
       "array(['www.cookbooks.com', 'www.allrecipes.com', 'www.food.com',\n",
       "       'recipes-plus.com', 'www.epicurious.com', 'food52.com',\n",
       "       'www.myrecipes.com', 'www.seriouseats.com', 'www.tasteofhome.com',\n",
       "       'tastykitchen.com', 'www.yummly.com', 'cookeatshare.com',\n",
       "       'www.foodnetwork.com', 'cookpad.com', 'www.kraftrecipes.com',\n",
       "       'online-cookbook.com', 'www.lovefood.com', 'www.landolakes.com',\n",
       "       'cooking.nytimes.com', 'allrecipes.com', 'www.foodgeeks.com',\n",
       "       'www.cookstr.com', 'recipeland.com', 'www.vegetariantimes.com',\n",
       "       'www.delish.com', 'www.foodandwine.com', 'www.chowhound.com',\n",
       "       'www.foodrepublic.com'], dtype=object)"
      ]
     },
     "execution_count": 2,
     "metadata": {},
     "output_type": "execute_result"
    }
   ],
   "source": [
    "BASE_DIR = Path().resolve().parent\n",
    "\n",
    "def data_path(folder, file_name):\n",
    "    return Path(BASE_DIR) / f\"data/{folder}/{file_name}\"\n",
    "\n",
    "raw_data = pd.read_csv(data_path(\"raw\", \"recipes_data_NER.csv\"))\n",
    "raw_data.site.unique()\n"
   ]
  },
  {
   "cell_type": "code",
   "execution_count": 3,
   "id": "35349499-6708-4451-bbbb-81c2009ec53d",
   "metadata": {},
   "outputs": [
    {
     "data": {
      "text/plain": [
       "'[\"Makes about 3 quarts of sauce\", \"5 pounds ripe plum tomatoes\", \"3-1/2 pounds firm eggplants\", \"1/2 cup extra-virgin olive oil\", \"3 cups finely chopped onions, about 1-1/4 pounds\", \"1/4 cup finely chopped garlic\", \"2 teaspoons salt, plus more to taste\", \"1/2 teaspoon peperoncino (or to your taste)\", \"3 or 4 large branches fresh basil with leaves\"]'"
      ]
     },
     "execution_count": 3,
     "metadata": {},
     "output_type": "execute_result"
    }
   ],
   "source": [
    "# Let's keep data only from epicurious.com\n",
    "subsample_recipes_df = raw_data[raw_data.site=='www.epicurious.com'].reset_index(drop=True)\n",
    "subsample_recipes_df.iloc[0].ingredients"
   ]
  },
  {
   "cell_type": "code",
   "execution_count": 4,
   "id": "c6d1ff7f-e4e1-459a-8231-60ee603f19b6",
   "metadata": {},
   "outputs": [
    {
     "data": {
      "text/plain": [
       "'[\"eggplants\", \"extra-virgin olive oil\", \"tomatoes\", \"of sauce\", \"onions\", \"peperoncino\", \"garlic\", \"fresh basil\", \"salt\"]'"
      ]
     },
     "execution_count": 4,
     "metadata": {},
     "output_type": "execute_result"
    }
   ],
   "source": [
    "subsample_recipes_df.iloc[0].NER"
   ]
  },
  {
   "cell_type": "code",
   "execution_count": 5,
   "id": "5bfe5cce-8d83-421c-b2fa-4249057d7a03",
   "metadata": {},
   "outputs": [],
   "source": [
    "subsample_recipes_df[['ingredients', 'NER']].to_csv(data_path(\"raw\", \"epicurious_recipes_df.csv\"), index=False)"
   ]
  },
  {
   "cell_type": "code",
   "execution_count": 6,
   "id": "1d051789-b8ed-4a19-8aff-c888b5943155",
   "metadata": {},
   "outputs": [
    {
     "data": {
      "text/plain": [
       "str"
      ]
     },
     "execution_count": 6,
     "metadata": {},
     "output_type": "execute_result"
    }
   ],
   "source": [
    "ingredients_df = pd.read_csv(data_path(\"raw\", \"epicurious_recipes_df.csv\"))\n",
    "type(ingredients_df['ingredients'].iloc[0])"
   ]
  },
  {
   "cell_type": "code",
   "execution_count": 7,
   "id": "69c7fb67-85d3-4204-aadf-195180668dd8",
   "metadata": {},
   "outputs": [
    {
     "data": {
      "text/plain": [
       "0    [1 large red onion, halved lengthways, thinly ...\n",
       "1    [6tsp feta cheese, 1/3 cup shredded fresh spin...\n",
       "2    [3 tablespoons vegetable oil, 1 large onion, s...\n",
       "3    [1 lb. mixed montery jack and cheddar cheeses,...\n",
       "4    [left over meat, beef, pork, ham, or chicken. ...\n",
       "Name: ingredients, dtype: object"
      ]
     },
     "execution_count": 7,
     "metadata": {},
     "output_type": "execute_result"
    }
   ],
   "source": [
    "import ast\n",
    "\n",
    "np.random.seed(0)\n",
    "idx = np.random.choice(ingredients_df.shape[0], 400, replace=False)\n",
    "ingredients_sub_df = ingredients_df.iloc[idx]['ingredients'].reset_index(drop=True).map(lambda x: ast.literal_eval(x))\n",
    "\n",
    "ingredients_sub_df.head()"
   ]
  },
  {
   "cell_type": "code",
   "execution_count": 8,
   "id": "7b4dfe71-9d98-429f-b123-5f97cba3516b",
   "metadata": {},
   "outputs": [
    {
     "data": {
      "text/plain": [
       "0    1 large red onion, halved lengthways, thinly s...\n",
       "1                              2 small green jalapenos\n",
       "2                                 2/3 cup rice vinegar\n",
       "3                              1 tablespoon lime juice\n",
       "4                           1 heaped teaspoon sea salt\n",
       "Name: ingredients, dtype: object"
      ]
     },
     "execution_count": 8,
     "metadata": {},
     "output_type": "execute_result"
    }
   ],
   "source": [
    "ingredients_rows_df = ingredients_sub_df.explode(ignore_index=True)\n",
    "ingredients_rows_df.head()"
   ]
  },
  {
   "cell_type": "code",
   "execution_count": 9,
   "id": "dec69aca-a267-4242-bf80-d75bc0f7ffff",
   "metadata": {},
   "outputs": [],
   "source": [
    "ingredients_rows_df = ingredients_rows_df.to_frame()"
   ]
  },
  {
   "cell_type": "code",
   "execution_count": 10,
   "id": "6387a2af-1532-4501-990a-7a6a5a9ee7c4",
   "metadata": {},
   "outputs": [
    {
     "data": {
      "text/plain": [
       "(3929, 1)"
      ]
     },
     "execution_count": 10,
     "metadata": {},
     "output_type": "execute_result"
    }
   ],
   "source": [
    "ingredients_rows_df.shape"
   ]
  },
  {
   "cell_type": "code",
   "execution_count": 11,
   "id": "fc409547-c73f-43f2-9ba3-5ba88b72b554",
   "metadata": {},
   "outputs": [],
   "source": [
    "ingredients_rows_df.to_csv(Path(BASE_DIR) / f\"data/interim/selected_ingrendiens_NER_large.csv\", index=False, sep='\\t')"
   ]
  },
  {
   "cell_type": "code",
   "execution_count": 12,
   "id": "f2392129-cf47-4673-ab85-a28658b76937",
   "metadata": {},
   "outputs": [
    {
     "data": {
      "text/plain": [
       "PosixPath('/Users/mariakalimeri/Documents/cooking_seasonally/data/interim/selected_ingrendiens_NER_large.csv')"
      ]
     },
     "execution_count": 12,
     "metadata": {},
     "output_type": "execute_result"
    }
   ],
   "source": [
    "data_path(\"interim\", \"selected_ingrendiens_NER_large.csv\")"
   ]
  },
  {
   "cell_type": "markdown",
   "id": "147009b2",
   "metadata": {},
   "source": [
    "Add recipes from ottolenghi as well"
   ]
  },
  {
   "cell_type": "code",
   "execution_count": 14,
   "id": "e2adf2c8-ec4b-40fa-aebb-882eeba341a3",
   "metadata": {},
   "outputs": [],
   "source": [
    "np.random.seed(0)\n",
    "test_set_df = pd.read_json(data_path('interim', 'ottolenghi_recipes.json'))\n",
    "test_set_df = test_set_df.iloc[np.random.choice(test_set_df.shape[0], 20, replace=False)].reset_index(drop=True).ingredients.explode()\n",
    "test_set_df.to_csv(Path(BASE_DIR) / f\"data/interim/ottolenghi_test_set_.csv\", index=False, sep='\\t')"
   ]
  },
  {
   "cell_type": "code",
   "execution_count": 56,
   "id": "c2306417-03d6-4124-9fa7-3df33825766c",
   "metadata": {},
   "outputs": [],
   "source": [
    "# Create dev dataset"
   ]
  },
  {
   "cell_type": "code",
   "execution_count": null,
   "id": "35e7ebec-0fbe-4414-87db-caadb5093660",
   "metadata": {},
   "outputs": [],
   "source": [
    "# Get subsample from the ottolenghi dataset\n",
    "np.random.seed(1)\n",
    "dev_set_df = pd.read_json(data_path('interim', 'ottolenghi_recipes.json'))\n",
    "dev_set_df = dev_set_df.iloc[np.random.choice(dev_set_df.shape[0], 20, replace=False)].reset_index(drop=True).ingredients.explode()\n",
    "dev_set_df.to_csv(Path(BASE_DIR) / f\"data/interim/dev_set.csv\", index=False, sep='\\t')\n"
   ]
  },
  {
   "cell_type": "code",
   "execution_count": null,
   "id": "7ff19307",
   "metadata": {},
   "outputs": [],
   "source": []
  }
 ],
 "metadata": {
  "kernelspec": {
   "display_name": ".venv (3.12.2)",
   "language": "python",
   "name": "python3"
  },
  "language_info": {
   "codemirror_mode": {
    "name": "ipython",
    "version": 3
   },
   "file_extension": ".py",
   "mimetype": "text/x-python",
   "name": "python",
   "nbconvert_exporter": "python",
   "pygments_lexer": "ipython3",
   "version": "3.12.2"
  }
 },
 "nbformat": 4,
 "nbformat_minor": 5
}
