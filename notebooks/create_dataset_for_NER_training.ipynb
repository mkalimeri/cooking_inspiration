{
 "cells": [
  {
   "cell_type": "markdown",
   "id": "072a0531-b9cf-41bd-bd61-ac2d1fea3eb0",
   "metadata": {},
   "source": [
    "# Create NER datasets\n",
    "\n",
    "In this notebook, I created the training and test datasets that will be used to fine tune a Name Entity Recognition (NER) Spacy pipeline.\n",
    "\n",
    "The train dataset was created using the dataset available at https://www.kaggle.com/datasets/wilmerarltstrmberg/recipe-dataset-over-2m/data\n",
    "This is a very large datasetthat contains recipe information, including keywords that can be used for NER, with the aim to recognise ingredients necessary for receipes. The dataset contains recipes scapped from multiple websites.\n",
    "\n",
    "For this specific project, I wanted to only recognise \"main\" ingredients. For example, I am not interested in spices, sauces or pantry items such as oil, but rather in fresh ingredients and items such as pasta, rice and pulses. For this reason, for the train set, I chose 200 random recipes from one website, and annotated every ingredient I was interested in. For example, I annotated \"tomatoes\" but not \"olive oil\". Thus, I expect that olive oil will not be recognised as an ingredient, while \"tomatoes\" will.\n",
    "\n",
    "To evaluate the NER model, I used my main dataset. I randomly chose 20 recipes and performed the same process, annotating the ingredients of interest and leaving the rest blank.\n"
   ]
  },
  {
   "cell_type": "code",
   "execution_count": 32,
   "id": "ad35bd7d-048e-49a0-9147-c6a95fabf6db",
   "metadata": {},
   "outputs": [],
   "source": [
    "from pathlib import Path\n",
    "\n",
    "import pandas as pd\n",
    "import numpy as np\n",
    "\n",
    "import spacy\n",
    "from spacy.tokens import Span, DocBin"
   ]
  },
  {
   "cell_type": "code",
   "execution_count": 33,
   "id": "39abc204-d3ba-4ca8-86cc-b40674c67540",
   "metadata": {},
   "outputs": [],
   "source": [
    "BASE_DIR = Path().resolve().parent\n",
    "\n",
    "def data_path(folder, file_name):\n",
    "    return Path(BASE_DIR) / f\"data/{folder}/{file_name}\"\n",
    "\n",
    "raw_data = pd.read_csv(data_path(\"raw\", \"recipes_data_NER.csv\"))\n",
    "raw_data.site.unique()\n"
   ]
  },
  {
   "cell_type": "code",
   "execution_count": 34,
   "id": "35349499-6708-4451-bbbb-81c2009ec53d",
   "metadata": {},
   "outputs": [],
   "source": [
    "# Let's keep data only from epicurious.com\n",
    "subsample_recipes_df = raw_data[raw_data.site=='www.epicurious.com'].reset_index(drop=True)\n",
    "subsample_recipes_df.iloc[0].ingredients"
   ]
  },
  {
   "cell_type": "code",
   "execution_count": 35,
   "id": "c6d1ff7f-e4e1-459a-8231-60ee603f19b6",
   "metadata": {},
   "outputs": [],
   "source": [
    "subsample_recipes_df.iloc[0].NER"
   ]
  },
  {
   "cell_type": "code",
   "execution_count": 36,
   "id": "5bfe5cce-8d83-421c-b2fa-4249057d7a03",
   "metadata": {},
   "outputs": [],
   "source": [
    "subsample_recipes_df[['ingredients', 'NER']].to_csv(data_path(\"raw\", \"epicurious_recipes_df.csv\"), index=False)"
   ]
  },
  {
   "cell_type": "code",
   "execution_count": 37,
   "id": "1d051789-b8ed-4a19-8aff-c888b5943155",
   "metadata": {},
   "outputs": [],
   "source": [
    "ingredients_df = pd.read_csv(data_path(\"raw\", \"epicurious_recipes_df.csv\"))\n",
    "type(ingredients_df['ingredients'].iloc[0])"
   ]
  },
  {
   "cell_type": "code",
   "execution_count": 38,
   "id": "69c7fb67-85d3-4204-aadf-195180668dd8",
   "metadata": {},
   "outputs": [],
   "source": [
    "import ast\n",
    "\n",
    "np.random.seed(1)\n",
    "idx = np.random.choice(ingredients_df.shape[0], 200, replace=False)\n",
    "ingredients_sub_df = ingredients_df.iloc[idx]['ingredients'].reset_index(drop=True).map(lambda x: ast.literal_eval(x))\n",
    "\n",
    "ingredients_sub_df.head()"
   ]
  },
  {
   "cell_type": "code",
   "execution_count": 39,
   "id": "7b4dfe71-9d98-429f-b123-5f97cba3516b",
   "metadata": {},
   "outputs": [],
   "source": [
    "ingredients_rows_df = ingredients_sub_df.explode(ignore_index=True)\n",
    "ingredients_rows_df.head()"
   ]
  },
  {
   "cell_type": "code",
   "execution_count": 40,
   "id": "dec69aca-a267-4242-bf80-d75bc0f7ffff",
   "metadata": {},
   "outputs": [],
   "source": [
    "ingredients_rows_df = ingredients_rows_df.to_frame()"
   ]
  },
  {
   "cell_type": "code",
   "execution_count": 41,
   "id": "6387a2af-1532-4501-990a-7a6a5a9ee7c4",
   "metadata": {},
   "outputs": [],
   "source": [
    "ingredients_rows_df.shape"
   ]
  },
  {
   "cell_type": "code",
   "execution_count": 42,
   "id": "fc409547-c73f-43f2-9ba3-5ba88b72b554",
   "metadata": {},
   "outputs": [],
   "source": [
    "ingredients_rows_df.to_csv(Path(BASE_DIR) / f\"data/interim/selected_ingrendiens_NER_.csv\", index=False, sep='\\t')"
   ]
  },
  {
   "cell_type": "code",
   "execution_count": 43,
   "id": "f2392129-cf47-4673-ab85-a28658b76937",
   "metadata": {},
   "outputs": [],
   "source": [
    "data_path(\"interim\", \"selected_ingrendiens_NER_.csv\")"
   ]
  },
  {
   "cell_type": "code",
   "execution_count": null,
   "id": "e2adf2c8-ec4b-40fa-aebb-882eeba341a3",
   "metadata": {},
   "outputs": [],
   "source": []
  },
  {
   "cell_type": "code",
   "execution_count": 56,
   "id": "c2306417-03d6-4124-9fa7-3df33825766c",
   "metadata": {},
   "outputs": [],
   "source": [
    "# Create dev dataset"
   ]
  },
  {
   "cell_type": "code",
   "execution_count": 57,
   "id": "35e7ebec-0fbe-4414-87db-caadb5093660",
   "metadata": {},
   "outputs": [],
   "source": [
    "# Get subsample from the ottolenghi dataset\n",
    "np.random.seed(1)\n",
    "dev_set_df = pd.read_json(data_path('interim', 'ottolenghi_recipes.json'))\n",
    "dev_set_df = dev_set_df.iloc[np.random.choice(dev_set_df.shape[0], 20, replace=False)].reset_index(drop=True).ingredients.explode()\n",
    "dev_set_df.to_csv(Path(BASE_DIR) / f\"data/interim/dev_set_.csv\", index=False, sep='\\t')\n"
   ]
  },
  {
   "cell_type": "code",
   "execution_count": null,
   "id": "7ff19307",
   "metadata": {},
   "outputs": [],
   "source": []
  }
 ],
 "metadata": {
  "kernelspec": {
   "display_name": "Python 3 (ipykernel)",
   "language": "python",
   "name": "python3"
  },
  "language_info": {
   "codemirror_mode": {
    "name": "ipython",
    "version": 3
   },
   "file_extension": ".py",
   "mimetype": "text/x-python",
   "name": "python",
   "nbconvert_exporter": "python",
   "pygments_lexer": "ipython3",
   "version": "3.12.2"
  }
 },
 "nbformat": 4,
 "nbformat_minor": 5
}
